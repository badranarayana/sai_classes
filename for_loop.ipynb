{
 "cells": [
  {
   "cell_type": "code",
   "execution_count": null,
   "id": "69194462-a28c-44b0-aa34-11821f042fd9",
   "metadata": {},
   "outputs": [],
   "source": [
    "# used to iterate over sequence/iterable objects\n",
    "\n",
    "\"\"\"\n",
    "for <var_name> in <iterable/sequence>:\n",
    "    <statements>\n",
    "\n",
    "\n",
    "\n",
    "iterble/objects --> list, string, tuple, dict, type\n",
    "\n",
    "\n",
    "\"\"\""
   ]
  },
  {
   "cell_type": "code",
   "execution_count": 3,
   "id": "023b9b14-86cc-44d8-8bff-5cef8cb5a73a",
   "metadata": {},
   "outputs": [
    {
     "name": "stdout",
     "output_type": "stream",
     "text": [
      "Net salary  500\n",
      "Net salary  600\n"
     ]
    }
   ],
   "source": [
    "salaries = [200, 300]\n",
    "\n",
    "# increase salary of employee fixed 300\n",
    "\n",
    "salary_hike = 300\n",
    "\n",
    "for salary in salaries:\n",
    "    print(\"Net salary \", salary + salary_hike)\n",
    "    \n"
   ]
  },
  {
   "cell_type": "code",
   "execution_count": 18,
   "id": "364255e4-ec93-4af0-a176-1cde0dd50130",
   "metadata": {},
   "outputs": [
    {
     "name": "stdout",
     "output_type": "stream",
     "text": [
      "vowel o\n",
      "vowel o\n",
      "vowel o\n",
      "vowel o\n",
      "vowel o\n",
      "vowels count 5\n",
      "----------------------\n",
      "10\n",
      "20\n",
      "20\n",
      "40\n",
      "30\n",
      "60\n"
     ]
    }
   ],
   "source": [
    "# write a prorgam to find how many vowels in given string\n",
    "\n",
    "company_name = \"wipro\"\n",
    "\n",
    "vowels = ['a', 'e', 'i', 'o', 'u']\n",
    "\n",
    "vowel_count = 0\n",
    "for char in company_name:\n",
    "    #print(char)\n",
    "    if kiran in vowels:\n",
    "        vowel_count += 1\n",
    "        print(\"vowel\", kiran)\n",
    "\n",
    "print(\"vowels count\", vowel_count)\n",
    "\n",
    "print(\"----------------------\")\n",
    "# nested loop example\n",
    "for i in [1, 2, 3]: # i = 3\n",
    "    for j in [10, 20]: # j = 20\n",
    "        print(i * j)\n",
    "\n"
   ]
  },
  {
   "cell_type": "code",
   "execution_count": 10,
   "id": "9d666777-ff43-4317-99b3-d3b7f5b214c8",
   "metadata": {},
   "outputs": [
    {
     "ename": "TypeError",
     "evalue": "'int' object is not iterable",
     "output_type": "error",
     "traceback": [
      "\u001b[1;31m---------------------------------------------------------------------------\u001b[0m",
      "\u001b[1;31mTypeError\u001b[0m                                 Traceback (most recent call last)",
      "Input \u001b[1;32mIn [10]\u001b[0m, in \u001b[0;36m<cell line: 1>\u001b[1;34m()\u001b[0m\n\u001b[1;32m----> 1\u001b[0m \u001b[38;5;28;01mfor\u001b[39;00m i \u001b[38;5;129;01min\u001b[39;00m \u001b[38;5;241m1000\u001b[39m:\n\u001b[0;32m      2\u001b[0m     \u001b[38;5;28mprint\u001b[39m(i)\n",
      "\u001b[1;31mTypeError\u001b[0m: 'int' object is not iterable"
     ]
    }
   ],
   "source": [
    "for i in 1000:\n",
    "    print(i)"
   ]
  },
  {
   "cell_type": "code",
   "execution_count": 12,
   "id": "463f6fe4-c5f4-4746-a923-ff35b8e94b6b",
   "metadata": {},
   "outputs": [
    {
     "ename": "TypeError",
     "evalue": "'float' object is not iterable",
     "output_type": "error",
     "traceback": [
      "\u001b[1;31m---------------------------------------------------------------------------\u001b[0m",
      "\u001b[1;31mTypeError\u001b[0m                                 Traceback (most recent call last)",
      "Input \u001b[1;32mIn [12]\u001b[0m, in \u001b[0;36m<cell line: 1>\u001b[1;34m()\u001b[0m\n\u001b[1;32m----> 1\u001b[0m \u001b[38;5;28;01mfor\u001b[39;00m i \u001b[38;5;129;01min\u001b[39;00m \u001b[38;5;241m1000.00\u001b[39m:\n\u001b[0;32m      2\u001b[0m     \u001b[38;5;28mprint\u001b[39m(i)\n",
      "\u001b[1;31mTypeError\u001b[0m: 'float' object is not iterable"
     ]
    }
   ],
   "source": [
    "for i in 1000.00:\n",
    "    print(i)"
   ]
  },
  {
   "cell_type": "code",
   "execution_count": 13,
   "id": "af512741-0bad-4eea-ae30-d3b3b93496e1",
   "metadata": {},
   "outputs": [
    {
     "name": "stdout",
     "output_type": "stream",
     "text": [
      "1\n",
      "2\n",
      "3\n",
      "4\n"
     ]
    }
   ],
   "source": [
    "# set\n",
    "data = {1, 2, 3, 4}\n",
    "for val in data:\n",
    "    print(val)\n"
   ]
  },
  {
   "cell_type": "code",
   "execution_count": 15,
   "id": "7bfa70b1-6a7f-462a-b4c5-c88e653b64ee",
   "metadata": {},
   "outputs": [
    {
     "name": "stdout",
     "output_type": "stream",
     "text": [
      "a ---> 10\n",
      "c ---> 30\n"
     ]
    }
   ],
   "source": [
    "# dict\n",
    "data = {\"a\": 10, \"c\": 30}\n",
    "for item, val in data.items():\n",
    "    print(item, \"--->\", val)"
   ]
  },
  {
   "cell_type": "code",
   "execution_count": 24,
   "id": "1417d410-9a5e-4025-9468-5b52f54bf249",
   "metadata": {},
   "outputs": [
    {
     "name": "stdout",
     "output_type": "stream",
     "text": [
      "10 * 1 = 10\n",
      "10 * 2 = 20\n",
      "10 * 3 = 30\n",
      "10 * 4 = 40\n",
      "10 * 5 = 50\n",
      "10 * 6 = 60\n",
      "10 * 7 = 70\n",
      "10 * 8 = 80\n",
      "10 * 9 = 90\n",
      "10 * 10 = 100\n"
     ]
    }
   ],
   "source": [
    "# write a program to print table 10\n",
    "\n",
    "table_num = 10\n",
    "\n",
    "for i in range(1, 11):\n",
    "    \n",
    "    print(f'{table_num} * {i} = {table_num * i}')\n",
    "    #out = table_num * i\n",
    "    #print(out)"
   ]
  },
  {
   "cell_type": "code",
   "execution_count": 37,
   "id": "531d9a25-2cd1-424e-9f2a-248c1275f7f2",
   "metadata": {},
   "outputs": [
    {
     "name": "stdout",
     "output_type": "stream",
     "text": [
      "wipro vowels count 2\n",
      "infosys vowels count 2\n",
      "capgemini vowels count 4\n",
      "tcs vowels count 0\n",
      "oracle vowels count 3\n"
     ]
    }
   ],
   "source": [
    "\n",
    "company_names = ['wipro', 'infosys', 'capgemini', 'tcs', 'oracle']\n",
    "\n",
    "vowels = ['a', 'e', 'i', 'o', 'u']\n",
    "\n",
    "for company_name in company_names:\n",
    "    #print(company)\n",
    "    vowel_count = 0\n",
    "    for char in company_name:\n",
    "        #print(char)\n",
    "        if char in vowels:\n",
    "            vowel_count = vowel_count +  1\n",
    "\n",
    "    print(f\"{company_name} vowels count\", vowel_count)\n",
    "\n",
    "    \n"
   ]
  },
  {
   "cell_type": "code",
   "execution_count": 40,
   "id": "fa20515d-3c3c-46d5-93de-605562a453ef",
   "metadata": {},
   "outputs": [
    {
     "name": "stdout",
     "output_type": "stream",
     "text": [
      "6 [800, 5000, 400, 300, 500, 600]\n"
     ]
    }
   ],
   "source": [
    "# write a program to find numes which are > 100\n",
    "\n",
    "data = [800, 1, 2, 3,44, 5000, 400, 300, 20, 40 ,22, 500, 600]\n",
    "\n",
    "out = []\n",
    "\n",
    "\n",
    "for num in data:\n",
    "    if num > 100:\n",
    "        out.append(num)\n",
    "\n",
    "print(len(out), out)\n"
   ]
  },
  {
   "cell_type": "code",
   "execution_count": null,
   "id": "3d4539c4-fa26-457a-8e18-e91bb17bc737",
   "metadata": {},
   "outputs": [],
   "source": [
    "# write a program to print fruit names starts with 'b'\n",
    "fruits = ['banana', 'oracle', 'berry', 'mango']\n",
    "\n",
    "\n",
    "\n",
    "# write a program to do all math(+, -, *) operations if num is even number\n",
    "\n",
    "value = 3\n",
    "\n",
    "data = [1, 2, 3, 4,5, 5]\n",
    "\n"
   ]
  },
  {
   "cell_type": "code",
   "execution_count": 6,
   "id": "ece898eb-d457-4e29-98df-674dfefb878b",
   "metadata": {},
   "outputs": [
    {
     "name": "stdout",
     "output_type": "stream",
     "text": [
      "0\n",
      "1\n",
      "2\n",
      "3\n",
      "4\n",
      "5\n",
      "6\n",
      "7\n",
      "8\n",
      "9\n",
      "For loop else block\n",
      "0\n",
      "1\n",
      "2\n",
      "3\n",
      "4\n",
      "5\n",
      "6\n",
      "7\n",
      "8\n",
      "9\n",
      "for loop else block\n"
     ]
    },
    {
     "data": {
      "text/plain": [
       "'\\nElse block will execute only when ther is break statemnet /controlled the loop\\n\\n'"
      ]
     },
     "execution_count": 6,
     "metadata": {},
     "output_type": "execute_result"
    }
   ],
   "source": [
    "# for - else pattern\n",
    "\n",
    "for i in range(10):\n",
    "    print(i)\n",
    "else:\n",
    "    print(\"For loop else block\")\n",
    "\n",
    "\n",
    "    \n",
    "for i in range(10): #0 to 9\n",
    "    print(i)\n",
    "    if i == 5:\n",
    "        break\n",
    "else:\n",
    "    print(\"for loop else block\")\n",
    "    \n",
    "\n",
    "# when else block of for loop will execute?\n",
    "\"\"\"\n",
    "Else block will execute only when ther is break statemnet /controlled the loop\n",
    "\n",
    "\"\"\"\n"
   ]
  },
  {
   "cell_type": "code",
   "execution_count": 13,
   "id": "4a8b0f55-abeb-477f-a4ef-5f6bf1876806",
   "metadata": {},
   "outputs": [
    {
     "name": "stdout",
     "output_type": "stream",
     "text": [
      "ramu Saved successfully\n",
      "Ashok1 Saved successfully\n",
      "ravi Saved successfully\n",
      "All items saved into db\n"
     ]
    }
   ],
   "source": [
    "# write a program to save object to db\n",
    "for name in ['ramu', 'Ashok1', 'ravi']:\n",
    "    print(name, \"Saved successfully\")\n",
    "    if name == 'Ashok':\n",
    "        break\n",
    "else:\n",
    "    print(\"All items saved into db\")"
   ]
  },
  {
   "cell_type": "code",
   "execution_count": null,
   "id": "00d484ae-780f-42a4-a0e1-a1e53d91e71e",
   "metadata": {},
   "outputs": [],
   "source": []
  }
 ],
 "metadata": {
  "kernelspec": {
   "display_name": "Python 3 (ipykernel)",
   "language": "python",
   "name": "python3"
  },
  "language_info": {
   "codemirror_mode": {
    "name": "ipython",
    "version": 3
   },
   "file_extension": ".py",
   "mimetype": "text/x-python",
   "name": "python",
   "nbconvert_exporter": "python",
   "pygments_lexer": "ipython3",
   "version": "3.10.4"
  }
 },
 "nbformat": 4,
 "nbformat_minor": 5
}
