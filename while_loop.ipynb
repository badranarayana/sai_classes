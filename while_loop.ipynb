{
 "cells": [
  {
   "cell_type": "code",
   "execution_count": null,
   "id": "8ca806e4-549d-4fcf-b77f-0293f90f9199",
   "metadata": {},
   "outputs": [],
   "source": [
    "# while loop: \n",
    "\"\"\"\n",
    "syntax:\n",
    "-------\n",
    "\n",
    "\n",
    "while <condition>:\n",
    "    <block of code>\n",
    "\n",
    "\n",
    "\n",
    "\"\"\""
   ]
  },
  {
   "cell_type": "code",
   "execution_count": 11,
   "id": "cba52939-f6cf-40af-bc59-b4ea055a8139",
   "metadata": {},
   "outputs": [
    {
     "name": "stdout",
     "output_type": "stream",
     "text": [
      "1\n",
      "2\n",
      "3\n",
      "4\n",
      "5\n",
      "6\n",
      "7\n",
      "8\n",
      "9\n",
      "10\n",
      "HHHH\n"
     ]
    }
   ],
   "source": [
    "# write a program to print 1 t0 10 numbers with out using for loop?\n",
    "start = 1\n",
    "end = 10\n",
    "\n",
    "while start <= end: #11 <= 10 --> False\n",
    "    print(start)\n",
    "    start += 1\n",
    "\n",
    "print(\"HHHH\")"
   ]
  },
  {
   "cell_type": "code",
   "execution_count": 14,
   "id": "8066da31-c902-4231-9ce1-136a3c9a4d65",
   "metadata": {},
   "outputs": [
    {
     "name": "stdout",
     "output_type": "stream",
     "text": [
      "2\n",
      "4\n",
      "6\n",
      "8\n",
      "10\n",
      "12\n",
      "14\n",
      "16\n",
      "18\n",
      "20\n",
      "22\n",
      "24\n",
      "26\n",
      "28\n",
      "30\n",
      "32\n",
      "34\n",
      "36\n",
      "38\n",
      "40\n",
      "42\n",
      "44\n",
      "46\n",
      "48\n",
      "50\n"
     ]
    }
   ],
   "source": [
    "# write a program to print even numbers between 1 to 50 withput using for loop?\n",
    "start = 1\n",
    "end = 50\n",
    "while start <= end: # 4<= 50 --> True\n",
    "    if start % 2 == 0:\n",
    "        print(start)\n",
    "    \n",
    "    start += 1\n"
   ]
  },
  {
   "cell_type": "code",
   "execution_count": 19,
   "id": "a55eac31-aabf-48d5-aea0-634ec13829ff",
   "metadata": {},
   "outputs": [
    {
     "name": "stdout",
     "output_type": "stream",
     "text": [
      "a\n",
      "b\n",
      "c\n",
      "d\n",
      "e\n",
      "rr\n"
     ]
    }
   ],
   "source": [
    "# write a program to print values from list without using for loop?\n",
    "\n",
    "data = ['a', 'b', 'c', 'd', 'e', 'rr']\n",
    "#print(data[1])\n",
    "\n",
    "start_index = 0\n",
    "end_index = len(data) - 1 #  6 - 1 -> 5\n",
    "\n",
    "# len() is a built-in function used to find the lenghth of objects\n",
    "\n",
    "while start_index <= end_index:\n",
    "    print(data[start_index])\n",
    "    start_index += 1"
   ]
  },
  {
   "cell_type": "code",
   "execution_count": 21,
   "id": "13363660-d7f7-40ef-bcc7-b0aa21591811",
   "metadata": {},
   "outputs": [
    {
     "name": "stdout",
     "output_type": "stream",
     "text": [
      "10\n",
      "11\n",
      "12\n",
      "13\n",
      "14\n"
     ]
    }
   ],
   "source": [
    "# while - else pattern\n",
    "\n",
    "start = 10\n",
    "end = 15\n",
    "\n",
    "while start <= end:\n",
    "    print(start)\n",
    "    if start == 14:\n",
    "        break\n",
    "        \n",
    "    start += 1\n",
    "else:\n",
    "    print(\"While else is executing\")\n",
    "\n",
    "# note: else will execute  only when there is no break statement executed in loop.\n"
   ]
  },
  {
   "cell_type": "code",
   "execution_count": 22,
   "id": "a7f249d4-0765-44fb-bbd0-66540a13a26e",
   "metadata": {},
   "outputs": [],
   "source": [
    "# HOME WORk"
   ]
  },
  {
   "cell_type": "code",
   "execution_count": null,
   "id": "be599759-841e-4e2e-9a7b-e75e59456fa8",
   "metadata": {},
   "outputs": [],
   "source": [
    "# write a program to print below pattern\n",
    "\"\"\"\n",
    "1\n",
    "22\n",
    "333\n",
    "4444\n",
    "55555\n",
    "666666\n",
    "\"\"\""
   ]
  },
  {
   "cell_type": "code",
   "execution_count": null,
   "id": "add591b1-0f74-4ac9-b28b-cab643ab1094",
   "metadata": {},
   "outputs": [],
   "source": []
  }
 ],
 "metadata": {
  "kernelspec": {
   "display_name": "Python 3 (ipykernel)",
   "language": "python",
   "name": "python3"
  },
  "language_info": {
   "codemirror_mode": {
    "name": "ipython",
    "version": 3
   },
   "file_extension": ".py",
   "mimetype": "text/x-python",
   "name": "python",
   "nbconvert_exporter": "python",
   "pygments_lexer": "ipython3",
   "version": "3.10.4"
  }
 },
 "nbformat": 4,
 "nbformat_minor": 5
}
